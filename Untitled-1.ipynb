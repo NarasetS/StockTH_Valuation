{
 "cells": [
  {
   "cell_type": "code",
   "execution_count": 1,
   "metadata": {},
   "outputs": [],
   "source": [
    "import yfinance as yf"
   ]
  },
  {
   "cell_type": "code",
   "execution_count": 2,
   "metadata": {},
   "outputs": [
    {
     "data": {
      "text/plain": [
       "yfinance.Ticker object <AAPL>"
      ]
     },
     "execution_count": 2,
     "metadata": {},
     "output_type": "execute_result"
    }
   ],
   "source": [
    "aapl= yf.Ticker(\"aapl\")\n",
    "aapl"
   ]
  },
  {
   "cell_type": "code",
   "execution_count": 3,
   "metadata": {},
   "outputs": [
    {
     "data": {
      "text/html": [
       "<div>\n",
       "<style scoped>\n",
       "    .dataframe tbody tr th:only-of-type {\n",
       "        vertical-align: middle;\n",
       "    }\n",
       "\n",
       "    .dataframe tbody tr th {\n",
       "        vertical-align: top;\n",
       "    }\n",
       "\n",
       "    .dataframe thead th {\n",
       "        text-align: right;\n",
       "    }\n",
       "</style>\n",
       "<table border=\"1\" class=\"dataframe\">\n",
       "  <thead>\n",
       "    <tr style=\"text-align: right;\">\n",
       "      <th></th>\n",
       "      <th>Open</th>\n",
       "      <th>High</th>\n",
       "      <th>Low</th>\n",
       "      <th>Close</th>\n",
       "      <th>Volume</th>\n",
       "      <th>Dividends</th>\n",
       "      <th>Stock Splits</th>\n",
       "    </tr>\n",
       "    <tr>\n",
       "      <th>Date</th>\n",
       "      <th></th>\n",
       "      <th></th>\n",
       "      <th></th>\n",
       "      <th></th>\n",
       "      <th></th>\n",
       "      <th></th>\n",
       "      <th></th>\n",
       "    </tr>\n",
       "  </thead>\n",
       "  <tbody>\n",
       "    <tr>\n",
       "      <th>2023-01-01 00:00:00-05:00</th>\n",
       "      <td>129.066093</td>\n",
       "      <td>163.462584</td>\n",
       "      <td>123.013023</td>\n",
       "      <td>163.363510</td>\n",
       "      <td>4271118000</td>\n",
       "      <td>0.23</td>\n",
       "      <td>0.0</td>\n",
       "    </tr>\n",
       "    <tr>\n",
       "      <th>2023-04-01 00:00:00-04:00</th>\n",
       "      <td>162.987855</td>\n",
       "      <td>192.962053</td>\n",
       "      <td>158.532895</td>\n",
       "      <td>192.456039</td>\n",
       "      <td>3541966300</td>\n",
       "      <td>0.24</td>\n",
       "      <td>0.0</td>\n",
       "    </tr>\n",
       "    <tr>\n",
       "      <th>2023-07-01 00:00:00-04:00</th>\n",
       "      <td>192.533463</td>\n",
       "      <td>196.954834</td>\n",
       "      <td>166.541740</td>\n",
       "      <td>170.108658</td>\n",
       "      <td>3656092400</td>\n",
       "      <td>0.24</td>\n",
       "      <td>0.0</td>\n",
       "    </tr>\n",
       "    <tr>\n",
       "      <th>2023-10-01 00:00:00-04:00</th>\n",
       "      <td>170.348299</td>\n",
       "      <td>198.603705</td>\n",
       "      <td>164.826552</td>\n",
       "      <td>191.549805</td>\n",
       "      <td>3335080500</td>\n",
       "      <td>0.24</td>\n",
       "      <td>0.0</td>\n",
       "    </tr>\n",
       "  </tbody>\n",
       "</table>\n",
       "</div>"
      ],
      "text/plain": [
       "                                 Open        High         Low       Close  \\\n",
       "Date                                                                        \n",
       "2023-01-01 00:00:00-05:00  129.066093  163.462584  123.013023  163.363510   \n",
       "2023-04-01 00:00:00-04:00  162.987855  192.962053  158.532895  192.456039   \n",
       "2023-07-01 00:00:00-04:00  192.533463  196.954834  166.541740  170.108658   \n",
       "2023-10-01 00:00:00-04:00  170.348299  198.603705  164.826552  191.549805   \n",
       "\n",
       "                               Volume  Dividends  Stock Splits  \n",
       "Date                                                            \n",
       "2023-01-01 00:00:00-05:00  4271118000       0.23           0.0  \n",
       "2023-04-01 00:00:00-04:00  3541966300       0.24           0.0  \n",
       "2023-07-01 00:00:00-04:00  3656092400       0.24           0.0  \n",
       "2023-10-01 00:00:00-04:00  3335080500       0.24           0.0  "
      ]
     },
     "execution_count": 3,
     "metadata": {},
     "output_type": "execute_result"
    }
   ],
   "source": [
    "aapl_historical = aapl.history(start=\"2023-01-01\", end=\"2023-12-31\", interval=\"3mo\")\n",
    "aapl_historical"
   ]
  },
  {
   "cell_type": "code",
   "execution_count": null,
   "metadata": {},
   "outputs": [],
   "source": []
  }
 ],
 "metadata": {
  "kernelspec": {
   "display_name": "Python 3",
   "language": "python",
   "name": "python3"
  },
  "language_info": {
   "codemirror_mode": {
    "name": "ipython",
    "version": 3
   },
   "file_extension": ".py",
   "mimetype": "text/x-python",
   "name": "python",
   "nbconvert_exporter": "python",
   "pygments_lexer": "ipython3",
   "version": "3.11.9"
  }
 },
 "nbformat": 4,
 "nbformat_minor": 2
}
