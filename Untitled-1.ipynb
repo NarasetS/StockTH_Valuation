{
 "cells": [
  {
   "cell_type": "code",
   "execution_count": 1,
   "metadata": {},
   "outputs": [],
   "source": [
    "def target_function(x):\n",
    "    return x**3 - 5*x**2 + 2*x + 1"
   ]
  },
  {
   "cell_type": "code",
   "execution_count": 2,
   "metadata": {},
   "outputs": [],
   "source": [
    "def derivative_function(x):\n",
    "    return 3*x**2 - 10*x + 2"
   ]
  },
  {
   "cell_type": "code",
   "execution_count": 3,
   "metadata": {},
   "outputs": [],
   "source": [
    "def newton_raphson_method(initial_guess, tolerance, max_iterations):\n",
    "    x_n = initial_guess\n",
    "    for iteration in range(max_iterations):\n",
    "        f_x = target_function(x_n)\n",
    "        f_prime_x = derivative_function(x_n)\n",
    "\n",
    "        if abs(f_x) < tolerance:\n",
    "            break\n",
    "\n",
    "        x_n = x_n - f_x / f_prime_x\n",
    "\n",
    "    return x_n"
   ]
  },
  {
   "cell_type": "code",
   "execution_count": 4,
   "metadata": {},
   "outputs": [
    {
     "name": "stdout",
     "output_type": "stream",
     "text": [
      "Estimated Root: 0.7781238377402105\n"
     ]
    }
   ],
   "source": [
    "initial_guess = 2.0\n",
    "tolerance = 1e-6\n",
    "max_iterations = 100\n",
    "\n",
    "root = newton_raphson_method(initial_guess, tolerance, max_iterations)\n",
    "print(\"Estimated Root:\", root)"
   ]
  }
 ],
 "metadata": {
  "kernelspec": {
   "display_name": "env",
   "language": "python",
   "name": "python3"
  },
  "language_info": {
   "codemirror_mode": {
    "name": "ipython",
    "version": 3
   },
   "file_extension": ".py",
   "mimetype": "text/x-python",
   "name": "python",
   "nbconvert_exporter": "python",
   "pygments_lexer": "ipython3",
   "version": "3.11.9"
  }
 },
 "nbformat": 4,
 "nbformat_minor": 2
}
