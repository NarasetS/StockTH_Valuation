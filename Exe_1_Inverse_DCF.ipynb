{
 "cells": [
  {
   "cell_type": "code",
   "execution_count": 1,
   "metadata": {},
   "outputs": [],
   "source": [
    "import pandas as pd\n",
    "import yfinance as yf\n",
    "import numpy as np"
   ]
  },
  {
   "cell_type": "code",
   "execution_count": 2,
   "metadata": {},
   "outputs": [
    {
     "name": "stdout",
     "output_type": "stream",
     "text": [
      "{'address1': '333 Silom Road', 'address2': 'Bangrak', 'city': 'Bangkok', 'zip': '10500', 'country': 'Thailand', 'phone': '66 2 645 5555', 'fax': '66 2 231 4890', 'website': 'https://www.bangkokbank.com', 'industry': 'Banks - Regional', 'industryKey': 'banks-regional', 'industryDisp': 'Banks - Regional', 'sector': 'Financial Services', 'sectorKey': 'financial-services', 'sectorDisp': 'Financial Services', 'longBusinessSummary': \"Bangkok Bank Public Company Limited provides various commercial banking products and services in Thailand and internationally. It operates through Domestic Banking, International Banking, Investment Banking, and Others segments. The company offers various personal banking products and services, including savings, current, fixed deposit, foreign currency, securities trading, and other accounts; home and personal loans, as well as loans for pensioners; mutual funds; bonds and debentures; life and non-life bancassurance products; payment, funds transfer, currency exchange and foreign instrument, and SMS services; debit, credit, and prepaid cards; and phone and Internet banking, mobile banking, ATMs, and other services. It also provides business banking products and services comprising operating accounts; loans for SMEs, international trade, investment banking, and e-guarantee services; securities services, such as custodian, mutual fund supervisor, provident fund registrar, securities registrar, and debenture holders' representative services; personal loans for small businesses; payment, collection, and merchant services; digital banking services; and commercial cards. In addition, the company offers trade finance, remittances, export and import, project, corporate finance, electronic services, business strategic management by trading financial instruments, and financial advisory services, as well as liquidity, fund, and asset management services. Bangkok Bank Public Company Limited was founded in 1944 and is headquartered in Bangkok, Thailand.\", 'companyOfficers': [{'maxAge': 1, 'name': 'Mr. Chartsiri  Sophonpanich', 'age': 63, 'title': 'President & Executive Director', 'yearBorn': 1960, 'exercisedValue': 0, 'unexercisedValue': 0}, {'maxAge': 1, 'name': 'Mr. Deja  Tulananda', 'age': 89, 'title': 'Chairman of the Board of Executive Directors & Executive Vice Chairman', 'yearBorn': 1934, 'exercisedValue': 0, 'unexercisedValue': 0}, {'maxAge': 1, 'name': 'Mr. Singh  Tangtatswas', 'age': 81, 'title': 'Vice Chairman of the Board of Executive Directors', 'yearBorn': 1942, 'exercisedValue': 0, 'unexercisedValue': 0}, {'maxAge': 1, 'name': 'Mr. Suvarn  Thansathit', 'age': 79, 'title': 'Senior EVP & Executive Director', 'yearBorn': 1944, 'exercisedValue': 0, 'unexercisedValue': 0}, {'maxAge': 1, 'name': 'Mr. Chansak  Fuangfu', 'age': 73, 'title': 'Senior EVP & Executive Director', 'yearBorn': 1950, 'exercisedValue': 0, 'unexercisedValue': 0}, {'maxAge': 1, 'name': 'Mr. Amorn  Chandarasomboon', 'age': 93, 'title': 'Executive Director', 'yearBorn': 1930, 'exercisedValue': 0, 'unexercisedValue': 0}, {'maxAge': 1, 'name': 'Mr. Chong  Toh', 'age': 55, 'title': 'Senior EVP & Executive Director', 'yearBorn': 1968, 'exercisedValue': 0, 'unexercisedValue': 0}, {'maxAge': 1, 'name': 'Ms. Niramarn  Laisathit', 'age': 56, 'title': 'Senior EVP & Executive Director', 'yearBorn': 1967, 'exercisedValue': 0, 'unexercisedValue': 0}, {'maxAge': 1, 'name': 'Dr. Kobsak  Pootrakool', 'age': 54, 'title': 'Senior EVP, Corporate Secretary & Executive Director', 'yearBorn': 1969, 'exercisedValue': 0, 'unexercisedValue': 0}, {'maxAge': 1, 'name': 'Mr. Charamporn  Jotikasthira', 'age': 66, 'title': 'Executive Director', 'yearBorn': 1957, 'exercisedValue': 0, 'unexercisedValue': 0}], 'maxAge': 86400, 'priceHint': 2, 'previousClose': 150.5, 'open': 149.5, 'dayLow': 147.0, 'dayHigh': 150.0, 'regularMarketPreviousClose': 150.5, 'regularMarketOpen': 149.5, 'regularMarketDayLow': 147.0, 'regularMarketDayHigh': 150.0, 'dividendRate': 7.0, 'dividendYield': 0.0476, 'exDividendDate': 1725408000, 'payoutRatio': 0.314, 'fiveYearAvgDividendYield': 3.73, 'beta': 0.462, 'trailingPE': 6.5948853, 'forwardPE': 6.355383, 'volume': 10080502, 'regularMarketVolume': 10080502, 'averageVolume': 5966130, 'averageVolume10days': 5026800, 'averageDailyVolume10Day': 5026800, 'marketCap': 280599461888, 'fiftyTwoWeekLow': 129.0, 'fiftyTwoWeekHigh': 163.5, 'priceToSalesTrailing12Months': 2.0234342, 'fiftyDayAverage': 151.2, 'twoHundredDayAverage': 141.005, 'trailingAnnualDividendRate': 5.0, 'trailingAnnualDividendYield': 0.03322259, 'currency': 'THB', 'enterpriseValue': 313961873408, 'profitMargins': 0.31491, 'floatShares': 1507565941, 'sharesOutstanding': 1908839936, 'heldPercentInsiders': 0.79725, 'heldPercentInstitutions': 0.090950005, 'impliedSharesOutstanding': 1915000064, 'bookValue': 287.516, 'priceToBook': 0.5112759, 'lastFiscalYearEnd': 1703980800, 'nextFiscalYearEnd': 1735603200, 'mostRecentQuarter': 1727654400, 'earningsQuarterlyGrowth': 0.099, 'netIncomeToCommon': 43669639168, 'trailingEps': 22.29, 'forwardEps': 23.13, 'pegRatio': 0.54, 'enterpriseToRevenue': 2.264, '52WeekChange': -0.06666666, 'SandP52WeekChange': 0.3464489, 'lastDividendValue': 2.0, 'lastDividendDate': 1725408000, 'exchange': 'SET', 'quoteType': 'EQUITY', 'symbol': 'BBL.BK', 'underlyingSymbol': 'BBL.BK', 'shortName': 'BBL_BANGKOK BANK', 'longName': 'Bangkok Bank Public Company Limited', 'firstTradeDateEpochUtc': 946954800, 'timeZoneFullName': 'Asia/Bangkok', 'timeZoneShortName': 'ICT', 'uuid': '8412e24b-0e3c-3e81-b90e-6eb08746e5e9', 'messageBoardId': 'finmb_874075', 'gmtOffSetMilliseconds': 25200000, 'currentPrice': 147.0, 'targetHighPrice': 195.0, 'targetLowPrice': 110.0, 'targetMeanPrice': 166.85, 'targetMedianPrice': 169.0, 'recommendationMean': 2.1, 'recommendationKey': 'buy', 'numberOfAnalystOpinions': 20, 'totalCash': 255042027520, 'totalCashPerShare': 133.611, 'totalDebt': 279951540224, 'totalRevenue': 138674864128, 'revenuePerShare': 72.649, 'returnOnAssets': 0.00976, 'returnOnEquity': 0.08158, 'earningsGrowth': 0.099, 'revenueGrowth': 0.12, 'operatingMargins': 0.41963002, 'financialCurrency': 'THB', 'trailingPegRatio': 0.3299}\n",
      "147.0\n",
      "Financial Services\n"
     ]
    }
   ],
   "source": [
    "ticker = 'bbl.bk'\n",
    "data = yf.Ticker(ticker)\n",
    "print(data.info)\n",
    "\n",
    "currentprice = data.info['currentPrice']\n",
    "sector = data.info['sector']\n",
    "print(currentprice)\n",
    "print(sector)\n",
    "\n",
    "dr = 0.10\n",
    "gr = 0.10\n",
    "tgr = 0.03\n",
    "year_growth = 3\n",
    "year_sustain = 7\n",
    "growth_to_sustain_ratio = 0.5"
   ]
  },
  {
   "cell_type": "code",
   "execution_count": 3,
   "metadata": {},
   "outputs": [],
   "source": [
    "# data.cash_flow.index"
   ]
  },
  {
   "cell_type": "code",
   "execution_count": 4,
   "metadata": {},
   "outputs": [
    {
     "name": "stdout",
     "output_type": "stream",
     "text": [
      "Ticker =  bbl.bk  Shares =  1908839936\n",
      "Ticker =  bbl.bk  Net Debt =  473061020000.0\n",
      "2023-12-31     90668273000.0\n",
      "2022-12-31     38661909000.0\n",
      "2021-12-31     -5706898000.0\n",
      "2020-12-31    185893037000.0\n",
      "dtype: object\n",
      "Ticker =  bbl.bk Average Free Cash Flow =  77379080250.0\n"
     ]
    }
   ],
   "source": [
    "### - get > Average Free cash flow , shares , Net Debt = Long Term Borrowings - Cash ###\n",
    "\n",
    "## Shares ## \n",
    "shares = data.info['sharesOutstanding']\n",
    "print('Ticker = ',ticker,' Shares = ',shares)\n",
    "\n",
    "## Net Debt = Long Term Borrowings - Cash ###\n",
    "if sector == 'Financial Services':\n",
    "    totalnoncurrentliabilities = data.balancesheet.loc[data.balancesheet.index == 'Net Debt'].values[0][0]\n",
    "else:\n",
    "    totalnoncurrentliabilities = data.balancesheet.loc[data.balancesheet.index == 'Total Non Current Liabilities Net Minority Interest'].values[0][0] - data.balancesheet.loc[data.balancesheet.index == 'Cash And Cash Equivalents'].values[0][0]\n",
    "\n",
    "print('Ticker = ',ticker,' Net Debt = ',totalnoncurrentliabilities)\n",
    "\n",
    "## Average Free Cash Flow ## \n",
    "year = 4\n",
    "if sector == 'Financial Services':\n",
    "    averagefreecashflow = (data.cash_flow.T['Free Cash Flow'] + data.cash_flow.T['Repayment Of Debt']).dropna()[:year].mean()\n",
    "    print((data.cash_flow.T['Free Cash Flow'] + data.cash_flow.T['Repayment Of Debt']).dropna()[:year])\n",
    "else:\n",
    "    averagefreecashflow = data.cash_flow.T['Free Cash Flow'].dropna()[:year].mean()\n",
    "    print(data.cash_flow.T['Free Cash Flow'].dropna()[:year])\n",
    "\n",
    "\n",
    "print('Ticker = ',ticker,'Average Free Cash Flow = ',averagefreecashflow)"
   ]
  },
  {
   "cell_type": "code",
   "execution_count": 5,
   "metadata": {},
   "outputs": [
    {
     "name": "stdout",
     "output_type": "stream",
     "text": [
      "bbl.bk Intrinsic Value =  541.08\n"
     ]
    }
   ],
   "source": [
    "##### Create a DCF Function ######\n",
    "\n",
    "def intrinsic_value(\n",
    "        shares,\n",
    "        totalnoncurrentliabilities,\n",
    "        averagefreecashflow,\n",
    "        year_growth,\n",
    "        year_sustain,\n",
    "        growth_to_sustain_ratio,\n",
    "        dr,\n",
    "        tgr,\n",
    "        gr\n",
    "        ):\n",
    "    \n",
    "    PV_1 = [averagefreecashflow * ((1+gr)**i) / ((1+dr)**i) for i in range(1,year_growth+1,1)]\n",
    "    PV_2 = [averagefreecashflow * ((1+gr)**year_growth) * ((1+(gr*growth_to_sustain_ratio))**i)/((1+dr)**(year_growth+i)) for i in range(1,year_sustain+1,1)]\n",
    "    TV = averagefreecashflow * ((1+gr)**year_growth) * ((1+(gr*growth_to_sustain_ratio))**(year_sustain)) * (1+tgr) / ((dr-tgr)*((1+dr)**(year_growth+year_sustain)))\n",
    "    return (np.sum(PV_1) + np.sum(PV_2) + TV - totalnoncurrentliabilities)/shares\n",
    "\n",
    "print(ticker + ' Intrinsic Value = ',\n",
    "      np.round(intrinsic_value(\n",
    "        shares,\n",
    "        totalnoncurrentliabilities,\n",
    "        averagefreecashflow,\n",
    "        year_growth,\n",
    "        year_sustain,\n",
    "        growth_to_sustain_ratio,\n",
    "        dr,\n",
    "        tgr,\n",
    "        gr\n",
    "        ),2))"
   ]
  },
  {
   "cell_type": "code",
   "execution_count": 6,
   "metadata": {},
   "outputs": [
    {
     "name": "stdout",
     "output_type": "stream",
     "text": [
      "418.02841659226686  % \n"
     ]
    }
   ],
   "source": [
    "### Put current price as a target ### \n",
    "\n",
    "def intrinsic_value_diff_currentprice(\n",
    "        shares,\n",
    "        totalnoncurrentliabilities,\n",
    "        averagefreecashflow,\n",
    "        year_growth,\n",
    "        year_sustain,\n",
    "        growth_to_sustain_ratio,\n",
    "        dr,\n",
    "        tgr,\n",
    "        currentprice,\n",
    "        gr\n",
    "        ):\n",
    "    \n",
    "    PV_1 = [averagefreecashflow * ((1+gr)**i) / ((1+dr)**i) for i in range(1,year_growth+1,1)]\n",
    "    PV_2 = [averagefreecashflow * ((1+gr)**year_growth) * ((1+(gr*growth_to_sustain_ratio))**i)/((1+dr)**(year_growth+i)) for i in range(1,year_sustain+1,1)]\n",
    "    TV = averagefreecashflow * ((1+gr)**year_growth) * ((1+(gr*growth_to_sustain_ratio))**(year_sustain)) * (1+tgr) / ((dr-tgr)*((1+dr)**(year_growth+year_sustain)))\n",
    "    # print((((np.sum(PV_1) + np.sum(PV_2) + TV - totalnoncurrentliabilities)/shares)) , currentprice)\n",
    "    return (((np.sum(PV_1) + np.sum(PV_2) + TV - totalnoncurrentliabilities)/shares) - currentprice)/currentprice\n",
    "\n",
    "print(intrinsic_value_diff_currentprice(\n",
    "        shares,\n",
    "        totalnoncurrentliabilities,\n",
    "        averagefreecashflow,\n",
    "        year_growth,\n",
    "        year_sustain,\n",
    "        growth_to_sustain_ratio,\n",
    "        dr,\n",
    "        tgr,\n",
    "        currentprice,\n",
    "        0.15\n",
    "        )*100,\" % \")"
   ]
  },
  {
   "cell_type": "code",
   "execution_count": 7,
   "metadata": {},
   "outputs": [],
   "source": [
    "def newton_raphson_method(\n",
    "            shares,\n",
    "            totalnoncurrentliabilities,\n",
    "            averagefreecashflow,\n",
    "            year_growth,\n",
    "            year_sustain,\n",
    "            growth_to_sustain_ratio,\n",
    "            dr,\n",
    "            tgr,\n",
    "            currentprice):\n",
    "    \n",
    "    initial_guess = 0.01\n",
    "    tolerance = 0.01\n",
    "    max_iterations = 100000\n",
    "    x_n = initial_guess\n",
    "    \n",
    "    for iteration in range(max_iterations):\n",
    "    # while (True):\n",
    "        f_x = intrinsic_value_diff_currentprice(\n",
    "            shares,\n",
    "            totalnoncurrentliabilities,\n",
    "            averagefreecashflow,\n",
    "            year_growth,\n",
    "            year_sustain,\n",
    "            growth_to_sustain_ratio,\n",
    "            dr,\n",
    "            tgr,\n",
    "            currentprice,\n",
    "            x_n\n",
    "        )\n",
    "\n",
    "        if abs(f_x) < tolerance :\n",
    "            break\n",
    "\n",
    "        x_n = x_n - f_x * 0.01\n",
    "\n",
    "    return x_n"
   ]
  },
  {
   "cell_type": "code",
   "execution_count": 8,
   "metadata": {},
   "outputs": [
    {
     "name": "stdout",
     "output_type": "stream",
     "text": [
      "Estimated GR: -0.037766822910064536\n",
      "0.986727582542387  % \n"
     ]
    }
   ],
   "source": [
    "root = newton_raphson_method(           \n",
    "            shares,\n",
    "            totalnoncurrentliabilities,\n",
    "            averagefreecashflow,\n",
    "            year_growth,\n",
    "            year_sustain,\n",
    "            growth_to_sustain_ratio,\n",
    "            dr,\n",
    "            tgr,\n",
    "            currentprice)\n",
    "\n",
    "print(\"Estimated GR:\", root)\n",
    "\n",
    "print(intrinsic_value_diff_currentprice(\n",
    "        shares,\n",
    "        totalnoncurrentliabilities,\n",
    "        averagefreecashflow,\n",
    "        year_growth,\n",
    "        year_sustain,\n",
    "        growth_to_sustain_ratio,\n",
    "        dr,\n",
    "        tgr,\n",
    "        currentprice,\n",
    "        root\n",
    "        ) * 100,\" % \")\n"
   ]
  },
  {
   "cell_type": "code",
   "execution_count": 9,
   "metadata": {},
   "outputs": [
    {
     "name": "stdout",
     "output_type": "stream",
     "text": [
      "      growthrate\n",
      "0.04   -0.304677\n",
      "0.05   -0.222092\n",
      "0.06   -0.168898\n",
      "0.07   -0.128137\n",
      "0.08   -0.094148\n",
      "...          ...\n",
      "0.96    1.245111\n",
      "0.97    1.258624\n",
      "0.98    1.272131\n",
      "0.99    1.285633\n",
      "1.00    1.299230\n",
      "\n",
      "[97 rows x 1 columns]\n",
      "1.4886197115688349 -0.15511811874240938\n"
     ]
    },
    {
     "data": {
      "image/png": "[encoded data removed]",
      "text/plain": [
       "<Figure size 640x480 with 1 Axes>"
      ]
     },
     "metadata": {},
     "output_type": "display_data"
    }
   ],
   "source": [
    "dr_list = [dr*0.01 for dr in range(int((tgr*100)+1),101,1)]\n",
    "df = pd.DataFrame(index=dr_list,columns=['growthrate'])\n",
    "\n",
    "growthrate = [ newton_raphson_method(           \n",
    "            shares,\n",
    "            totalnoncurrentliabilities,\n",
    "            averagefreecashflow,\n",
    "            year_growth,\n",
    "            year_sustain,\n",
    "            growth_to_sustain_ratio,\n",
    "            dr,\n",
    "            tgr,\n",
    "            currentprice) for dr in dr_list]\n",
    "df['growthrate'] = growthrate\n",
    "print(df)\n",
    "df.plot(xlabel='dr', ylabel='growthrate').set_title(ticker)\n",
    "\n",
    "beta, alpha = np.polyfit(np.array(df.index).astype('float64'), np.array(df['growthrate']).astype('float64'),1)\n",
    "print(beta,alpha)"
   ]
  }
 ],
 "metadata": {
  "kernelspec": {
   "display_name": "env",
   "language": "python",
   "name": "python3"
  },
  "language_info": {
   "codemirror_mode": {
    "name": "ipython",
    "version": 3
   },
   "file_extension": ".py",
   "mimetype": "text/x-python",
   "name": "python",
   "nbconvert_exporter": "python",
   "pygments_lexer": "ipython3",
   "version": "3.11.9"
  }
 },
 "nbformat": 4,
 "nbformat_minor": 2
}
