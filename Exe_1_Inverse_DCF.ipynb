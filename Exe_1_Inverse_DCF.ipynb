{
 "cells": [
  {
   "cell_type": "code",
   "execution_count": 104,
   "metadata": {},
   "outputs": [],
   "source": [
    "import pandas as pd\n",
    "import yfinance as yf\n",
    "import numpy as np"
   ]
  },
  {
   "cell_type": "code",
   "execution_count": 105,
   "metadata": {},
   "outputs": [
    {
     "name": "stdout",
     "output_type": "stream",
     "text": [
      "{'address1': '909, Ample Tower', 'address2': '9th floor Debaratna Road Bangna Nuea, Bangna', 'city': 'Bangkok', 'zip': '10260', 'country': 'Thailand', 'phone': '66 2 769 4222', 'fax': '66 2 769 4244', 'website': 'https://www.megawecare.com', 'industry': 'Drug Manufacturers - Specialty & Generic', 'industryKey': 'drug-manufacturers-specialty-generic', 'industryDisp': 'Drug Manufacturers - Specialty & Generic', 'sector': 'Healthcare', 'sectorKey': 'healthcare', 'sectorDisp': 'Healthcare', 'longBusinessSummary': \"Mega Lifesciences Public Company Limited, together with its subsidiaries, manufactures and sells health food supplements, prescription pharmaceutical products, over-the-counter products, herbal products, vitamins, and fast-moving consumer goods in Southeast Asia and Sub-Saharan Africa. The company operates in three segments: Brands, Distribution, and Original Equipment Manufacture (OEM). It provides various medicines for allergies; blood circulation and memory; bone and joint; liver and digestive; eyes, heart, and skin; pain, sleeping, well-being, herbal, and cough and colds; and vitamins, probiotics, medical and sports nutrition, as well as kids', men's, and women's care products. The company also offers prescription medicines in the areas of anti-allergic, anti-infective, central nervous system, cardiovascular system, dermatology, diabetes, gastroenterology, gynecology, nephrology, oncology, ophthalmology, orthopedic, pain, respiratory, rheumatology, and urology. In addition, it provides logistical and marketing services for the sale of goods manufactured by third parties, as well as involved in the software design, development, and other services business. The company was founded in 1982 and is headquartered in Bangkok, Thailand. Mega Lifesciences Public Company Limited operates as a subsidiary of Unistretch Limited.\", 'companyOfficers': [{'maxAge': 1, 'name': 'Mr. Vivek  Dhawan', 'age': 62, 'title': 'CEO, Chief Coach & Executive  Director', 'yearBorn': 1961, 'fiscalYear': 2023, 'exercisedValue': 0, 'unexercisedValue': 0}, {'maxAge': 1, 'name': 'Mr. Thomas  Abraham', 'age': 60, 'title': 'CFO & Executive Director', 'yearBorn': 1963, 'fiscalYear': 2023, 'exercisedValue': 0, 'unexercisedValue': 0}, {'maxAge': 1, 'name': 'Mr. Deepak  Panjwani', 'age': 49, 'title': 'Chief Risk & Compliance Officer', 'yearBorn': 1974, 'fiscalYear': 2023, 'exercisedValue': 0, 'unexercisedValue': 0}, {'maxAge': 1, 'name': 'Mr. Paramjit Singh Sawhney', 'age': 60, 'title': 'President of International', 'yearBorn': 1963, 'fiscalYear': 2023, 'exercisedValue': 0, 'unexercisedValue': 0}, {'maxAge': 1, 'name': 'Mr. Girish  Wadhwa', 'age': 53, 'title': 'President of Myanmar', 'yearBorn': 1970, 'fiscalYear': 2023, 'exercisedValue': 0, 'unexercisedValue': 0}, {'maxAge': 1, 'name': 'Mr. Manoj  Gurbuxani', 'age': 49, 'title': 'Deputy Chief Financial Officer', 'yearBorn': 1974, 'fiscalYear': 2023, 'exercisedValue': 0, 'unexercisedValue': 0}, {'maxAge': 1, 'name': 'Ms. Duangnapa  Tongsiri', 'age': 63, 'title': 'President of Mega We Care Thailand', 'yearBorn': 1960, 'fiscalYear': 2023, 'exercisedValue': 0, 'unexercisedValue': 0}, {'maxAge': 1, 'name': 'Ms. Sujintana  Boonworapat', 'age': 51, 'title': 'Corporate Secretary', 'yearBorn': 1972, 'fiscalYear': 2023, 'exercisedValue': 0, 'unexercisedValue': 0}], 'compensationAsOfEpochDate': 1703980800, 'maxAge': 86400, 'priceHint': 2, 'previousClose': 39.0, 'open': 39.0, 'dayLow': 38.75, 'dayHigh': 39.25, 'regularMarketPreviousClose': 39.0, 'regularMarketOpen': 39.0, 'regularMarketDayLow': 38.75, 'regularMarketDayHigh': 39.25, 'dividendRate': 1.6, 'dividendYield': 0.040999997, 'exDividendDate': 1724371200, 'payoutRatio': 0.6957, 'fiveYearAvgDividendYield': 3.03, 'beta': 0.37, 'trailingPE': 16.847826, 'forwardPE': 13.454861, 'volume': 138844, 'regularMarketVolume': 138844, 'averageVolume': 745092, 'averageVolume10days': 625970, 'averageDailyVolume10Day': 625970, 'bid': 38.75, 'ask': 39.0, 'marketCap': 33994792960, 'fiftyTwoWeekLow': 35.0, 'fiftyTwoWeekHigh': 46.25, 'priceToSalesTrailing12Months': 2.1673996, 'fiftyDayAverage': 38.385, 'twoHundredDayAverage': 39.8025, 'trailingAnnualDividendRate': 1.6, 'trailingAnnualDividendYield': 0.041025642, 'currency': 'THB', 'enterpriseValue': 30722529280, 'profitMargins': 0.12746, 'floatShares': 347431280, 'sharesOutstanding': 871870016, 'heldPercentInsiders': 0.61875, 'heldPercentInstitutions': 0.094569996, 'impliedSharesOutstanding': 877284992, 'bookValue': 11.234, 'priceToBook': 3.44935, 'lastFiscalYearEnd': 1703980800, 'nextFiscalYearEnd': 1735603200, 'mostRecentQuarter': 1719705600, 'earningsQuarterlyGrowth': -0.034, 'netIncomeToCommon': 1999193984, 'trailingEps': 2.3, 'forwardEps': 2.88, 'pegRatio': 13.59, 'enterpriseToRevenue': 1.959, 'enterpriseToEbitda': 9.647, '52WeekChange': -0.14285713, 'SandP52WeekChange': 0.34083736, 'lastDividendValue': 0.8, 'lastDividendDate': 1724371200, 'exchange': 'SET', 'quoteType': 'EQUITY', 'symbol': 'MEGA.BK', 'underlyingSymbol': 'MEGA.BK', 'shortName': 'MEGA_MEGA LIFESCIENCES', 'longName': 'Mega Lifesciences Public Company Limited', 'firstTradeDateEpochUtc': 1384830000, 'timeZoneFullName': 'Asia/Bangkok', 'timeZoneShortName': 'ICT', 'uuid': '77186322-7fb8-301d-ab49-d41cd58b68bb', 'messageBoardId': 'finmb_31094172', 'gmtOffSetMilliseconds': 25200000, 'currentPrice': 38.75, 'targetHighPrice': 56.0, 'targetLowPrice': 35.0, 'targetMeanPrice': 48.19, 'targetMedianPrice': 50.5, 'recommendationMean': 2.8, 'recommendationKey': 'hold', 'numberOfAnalystOpinions': 8, 'totalCash': 3693629952, 'totalCashPerShare': 4.236, 'ebitda': 3184812032, 'totalDebt': 413209984, 'quickRatio': 1.497, 'currentRatio': 2.252, 'totalRevenue': 15684597760, 'debtToEquity': 4.219, 'revenuePerShare': 17.99, 'returnOnAssets': 0.12703, 'returnOnEquity': 0.21166, 'freeCashflow': 2272991232, 'operatingCashflow': 2667141120, 'earningsGrowth': -0.034, 'revenueGrowth': -0.008, 'grossMargins': 0.46837002, 'ebitdaMargins': 0.20305, 'operatingMargins': 0.19896999, 'financialCurrency': 'THB', 'trailingPegRatio': None}\n",
      "38.75\n"
     ]
    }
   ],
   "source": [
    "ticker = 'mega.bk'\n",
    "data = yf.Ticker(ticker)\n",
    "print(data.info)\n",
    "print(data.info['currentPrice'])\n",
    "currentprice = data.info['currentPrice']"
   ]
  },
  {
   "cell_type": "code",
   "execution_count": 106,
   "metadata": {},
   "outputs": [
    {
     "name": "stdout",
     "output_type": "stream",
     "text": [
      "Ticker =  mega.bk  Shares =  871870016\n",
      "Ticker =  mega.bk  Net Debt =  -1980612000.0\n",
      "2023-12-31    1632912000.0\n",
      "2022-12-31    1683881000.0\n",
      "2021-12-31    2567048000.0\n",
      "2020-12-31    1374361000.0\n",
      "Name: Free Cash Flow, dtype: object\n",
      "Ticker =  mega.bk Average Free Cash Flow =  1814550500.0\n"
     ]
    }
   ],
   "source": [
    "### - get > Average Free cash flow , shares , Net Debt = Long Term Borrowings - Cash ###\n",
    "\n",
    "## Shares ## \n",
    "shares = data.info['sharesOutstanding']\n",
    "print('Ticker = ',ticker,' Shares = ',shares)\n",
    "\n",
    "## Net Debt = Long Term Borrowings - Cash ###\n",
    "totalnoncurrentliabilities = data.balancesheet.loc[data.balancesheet.index == 'Total Non Current Liabilities Net Minority Interest'].values[0][0] - data.balancesheet.loc[data.balancesheet.index == 'Cash And Cash Equivalents'].values[0][0]\n",
    "print('Ticker = ',ticker,' Net Debt = ',totalnoncurrentliabilities)\n",
    "\n",
    "## Average Free Cash Flow ## \n",
    "year = 4\n",
    "averagefreecashflow = data.cash_flow.T['Free Cash Flow'].dropna()[:year].mean()\n",
    "print(data.cash_flow.T['Free Cash Flow'].dropna()[:year])\n",
    "print('Ticker = ',ticker,'Average Free Cash Flow = ',averagefreecashflow)"
   ]
  },
  {
   "cell_type": "code",
   "execution_count": 107,
   "metadata": {},
   "outputs": [],
   "source": [
    "##### Create a DCF Function ######\n",
    "dr = 0.2\n",
    "tgr = 0.02\n",
    "year_growth = 3\n",
    "year_sustain = 7\n",
    "growth_to_sustain_ratio = 0.5\n",
    "\n",
    "def intrinsic_value(\n",
    "        shares,\n",
    "        totalnoncurrentliabilities,\n",
    "        averagefreecashflow,\n",
    "        year_growth,\n",
    "        year_sustain,\n",
    "        growth_to_sustain_ratio,\n",
    "        dr,\n",
    "        tgr,\n",
    "        gr\n",
    "        ):\n",
    "    \n",
    "    PV_1 = [averagefreecashflow * ((1+gr)**i) / ((1+dr)**i) for i in range(1,year_growth+1,1)]\n",
    "    PV_2 = [averagefreecashflow * ((1+gr)**year_growth) * ((1+(gr*growth_to_sustain_ratio))**i)/((1+dr)**(year_growth+i)) for i in range(1,year_sustain+1,1)]\n",
    "    TV = averagefreecashflow * ((1+gr)**year_growth) * ((1+(gr*growth_to_sustain_ratio))**(year_sustain)) * (1+tgr) / ((dr-tgr)*((1+dr)**(year_growth+year_sustain)))\n",
    "    return (np.sum(PV_1) + np.sum(PV_2) + TV - totalnoncurrentliabilities)/shares"
   ]
  },
  {
   "cell_type": "code",
   "execution_count": 108,
   "metadata": {},
   "outputs": [
    {
     "name": "stdout",
     "output_type": "stream",
     "text": [
      "17.612624568047828\n"
     ]
    }
   ],
   "source": [
    "print(intrinsic_value(\n",
    "        shares,\n",
    "        totalnoncurrentliabilities,\n",
    "        averagefreecashflow,\n",
    "        year_growth,\n",
    "        year_sustain,\n",
    "        growth_to_sustain_ratio,\n",
    "        dr,\n",
    "        tgr,\n",
    "        0.095\n",
    "        ))"
   ]
  },
  {
   "cell_type": "code",
   "execution_count": 122,
   "metadata": {},
   "outputs": [
    {
     "name": "stdout",
     "output_type": "stream",
     "text": [
      "-2.485618926401263  % \n"
     ]
    }
   ],
   "source": [
    "### Put current price as a target ### \n",
    "\n",
    "def intrinsic_value_diff_currentprice(\n",
    "        shares,\n",
    "        totalnoncurrentliabilities,\n",
    "        averagefreecashflow,\n",
    "        year_growth,\n",
    "        year_sustain,\n",
    "        growth_to_sustain_ratio,\n",
    "        dr,\n",
    "        tgr,\n",
    "        currentprice,\n",
    "        gr\n",
    "        ):\n",
    "    \n",
    "    PV_1 = [averagefreecashflow * ((1+gr)**i) / ((1+dr)**i) for i in range(1,year_growth+1,1)]\n",
    "    PV_2 = [averagefreecashflow * ((1+gr)**year_growth) * ((1+(gr*growth_to_sustain_ratio))**i)/((1+dr)**(year_growth+i)) for i in range(1,year_sustain+1,1)]\n",
    "    TV = averagefreecashflow * ((1+gr)**year_growth) * ((1+(gr*growth_to_sustain_ratio))**(year_sustain)) * (1+tgr) / ((dr-tgr)*((1+dr)**(year_growth+year_sustain)))\n",
    "    # print((((np.sum(PV_1) + np.sum(PV_2) + TV - totalnoncurrentliabilities)/shares)) , currentprice)\n",
    "    return (((np.sum(PV_1) + np.sum(PV_2) + TV - totalnoncurrentliabilities)/shares) - currentprice) * 100 /currentprice\n",
    "\n",
    "print(intrinsic_value_diff_currentprice(\n",
    "        shares,\n",
    "        totalnoncurrentliabilities,\n",
    "        averagefreecashflow,\n",
    "        year_growth,\n",
    "        year_sustain,\n",
    "        growth_to_sustain_ratio,\n",
    "        dr,\n",
    "        tgr,\n",
    "        currentprice,\n",
    "        0.31\n",
    "        ),\" % \")"
   ]
  },
  {
   "cell_type": "code",
   "execution_count": 110,
   "metadata": {},
   "outputs": [],
   "source": [
    "def dv_intrinsic_value_diff_currentprice(\n",
    "        shares,\n",
    "        totalnoncurrentliabilities,\n",
    "        averagefreecashflow,\n",
    "        year_growth,\n",
    "        year_sustain,\n",
    "        growth_to_sustain_ratio,\n",
    "        dr,\n",
    "        tgr,\n",
    "        currentprice,\n",
    "        gr\n",
    "        ):\n",
    "    \n",
    "    PV_1 = [averagefreecashflow * ((1+gr)**i) / ((1+dr)**i) for i in range(1,year_growth+1,1)]\n",
    "    PV_2 = [averagefreecashflow * ((1+gr)**year_growth) * ((1+(gr*growth_to_sustain_ratio))**i)/((1+dr)**(year_growth+i)) for i in range(1,year_sustain+1,1)]\n",
    "    TV = averagefreecashflow * ((1+gr)**year_growth) * ((1+(gr*growth_to_sustain_ratio))**(year_sustain)) * (1+tgr) / ((dr-tgr)*((1+dr)**(year_growth+year_sustain)))\n",
    "    return (((np.sum(PV_1) + np.sum(PV_2) + TV - totalnoncurrentliabilities)/shares) - currentprice) * 100 /currentprice"
   ]
  }
 ],
 "metadata": {
  "kernelspec": {
   "display_name": "env",
   "language": "python",
   "name": "python3"
  },
  "language_info": {
   "codemirror_mode": {
    "name": "ipython",
    "version": 3
   },
   "file_extension": ".py",
   "mimetype": "text/x-python",
   "name": "python",
   "nbconvert_exporter": "python",
   "pygments_lexer": "ipython3",
   "version": "3.11.9"
  }
 },
 "nbformat": 4,
 "nbformat_minor": 2
}
