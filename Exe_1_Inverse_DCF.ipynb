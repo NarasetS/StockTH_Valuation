{
 "cells": [
  {
   "cell_type": "code",
   "execution_count": 1,
   "metadata": {},
   "outputs": [],
   "source": [
    "import pandas as pd\n",
    "import yfinance as yf"
   ]
  },
  {
   "cell_type": "code",
   "execution_count": 9,
   "metadata": {},
   "outputs": [
    {
     "name": "stdout",
     "output_type": "stream",
     "text": [
      "{'address1': '909, Ample Tower', 'address2': '9th floor Debaratna Road Bangna Nuea, Bangna', 'city': 'Bangkok', 'zip': '10260', 'country': 'Thailand', 'phone': '66 2 769 4222', 'fax': '66 2 769 4244', 'website': 'https://www.megawecare.com', 'industry': 'Drug Manufacturers - Specialty & Generic', 'industryKey': 'drug-manufacturers-specialty-generic', 'industryDisp': 'Drug Manufacturers - Specialty & Generic', 'sector': 'Healthcare', 'sectorKey': 'healthcare', 'sectorDisp': 'Healthcare', 'longBusinessSummary': \"Mega Lifesciences Public Company Limited, together with its subsidiaries, manufactures and sells health food supplements, prescription pharmaceutical products, over-the-counter products, herbal products, vitamins, and fast-moving consumer goods in Southeast Asia and Sub-Saharan Africa. The company operates in three segments: Brands, Distribution, and Original Equipment Manufacture (OEM). It provides various medicines for allergies; blood circulation and memory; bone and joint; liver and digestive; eyes, heart, and skin; pain, sleeping, well-being, herbal, and cough and colds; and vitamins, probiotics, medical and sports nutrition, as well as kids', men's, and women's care products. The company also offers prescription medicines in the areas of anti-allergic, anti-infective, central nervous system, cardiovascular system, dermatology, diabetes, gastroenterology, gynecology, nephrology, oncology, ophthalmology, orthopedic, pain, respiratory, rheumatology, and urology. In addition, it provides logistical and marketing services for the sale of goods manufactured by third parties, as well as involved in the software design, development, and other services business. The company was founded in 1982 and is headquartered in Bangkok, Thailand. Mega Lifesciences Public Company Limited operates as a subsidiary of Unistretch Limited.\", 'companyOfficers': [{'maxAge': 1, 'name': 'Mr. Vivek  Dhawan', 'age': 62, 'title': 'CEO, Chief Coach & Executive  Director', 'yearBorn': 1961, 'fiscalYear': 2023, 'exercisedValue': 0, 'unexercisedValue': 0}, {'maxAge': 1, 'name': 'Mr. Thomas  Abraham', 'age': 60, 'title': 'CFO & Executive Director', 'yearBorn': 1963, 'fiscalYear': 2023, 'exercisedValue': 0, 'unexercisedValue': 0}, {'maxAge': 1, 'name': 'Mr. Deepak  Panjwani', 'age': 49, 'title': 'Chief Risk & Compliance Officer', 'yearBorn': 1974, 'fiscalYear': 2023, 'exercisedValue': 0, 'unexercisedValue': 0}, {'maxAge': 1, 'name': 'Mr. Paramjit Singh Sawhney', 'age': 60, 'title': 'President of International', 'yearBorn': 1963, 'fiscalYear': 2023, 'exercisedValue': 0, 'unexercisedValue': 0}, {'maxAge': 1, 'name': 'Mr. Girish  Wadhwa', 'age': 53, 'title': 'President of Myanmar', 'yearBorn': 1970, 'fiscalYear': 2023, 'exercisedValue': 0, 'unexercisedValue': 0}, {'maxAge': 1, 'name': 'Mr. Manoj  Gurbuxani', 'age': 49, 'title': 'Deputy Chief Financial Officer', 'yearBorn': 1974, 'fiscalYear': 2023, 'exercisedValue': 0, 'unexercisedValue': 0}, {'maxAge': 1, 'name': 'Ms. Duangnapa  Tongsiri', 'age': 63, 'title': 'President of Mega We Care Thailand', 'yearBorn': 1960, 'fiscalYear': 2023, 'exercisedValue': 0, 'unexercisedValue': 0}, {'maxAge': 1, 'name': 'Ms. Sujintana  Boonworapat', 'age': 51, 'title': 'Corporate Secretary', 'yearBorn': 1972, 'fiscalYear': 2023, 'exercisedValue': 0, 'unexercisedValue': 0}], 'compensationAsOfEpochDate': 1703980800, 'maxAge': 86400, 'priceHint': 2, 'previousClose': 39.25, 'open': 39.5, 'dayLow': 39.25, 'dayHigh': 39.75, 'regularMarketPreviousClose': 39.25, 'regularMarketOpen': 39.5, 'regularMarketDayLow': 39.25, 'regularMarketDayHigh': 39.75, 'dividendRate': 1.6, 'dividendYield': 0.040999997, 'exDividendDate': 1724371200, 'payoutRatio': 0.6957, 'fiveYearAvgDividendYield': 3.02, 'beta': 0.37, 'trailingPE': 17.173914, 'forwardPE': 13.715278, 'volume': 144901, 'regularMarketVolume': 144901, 'averageVolume': 734026, 'averageVolume10days': 603260, 'averageDailyVolume10Day': 603260, 'bid': 39.5, 'ask': 39.75, 'marketCap': 34652758016, 'fiftyTwoWeekLow': 35.0, 'fiftyTwoWeekHigh': 46.25, 'priceToSalesTrailing12Months': 2.2093494, 'fiftyDayAverage': 38.295, 'twoHundredDayAverage': 39.81375, 'trailingAnnualDividendRate': 1.6, 'trailingAnnualDividendYield': 0.04076433, 'currency': 'THB', 'enterpriseValue': 30940495872, 'profitMargins': 0.12746, 'floatShares': 347134845, 'sharesOutstanding': 871870016, 'heldPercentInsiders': 0.61875, 'heldPercentInstitutions': 0.094569996, 'impliedSharesOutstanding': 877284992, 'bookValue': 11.234, 'priceToBook': 3.5161119, 'lastFiscalYearEnd': 1703980800, 'nextFiscalYearEnd': 1735603200, 'mostRecentQuarter': 1719705600, 'earningsQuarterlyGrowth': -0.034, 'netIncomeToCommon': 1999193984, 'trailingEps': 2.3, 'forwardEps': 2.88, 'pegRatio': 13.59, 'enterpriseToRevenue': 1.973, 'enterpriseToEbitda': 9.715, '52WeekChange': -0.10795456, 'SandP52WeekChange': 0.36246562, 'lastDividendValue': 0.8, 'lastDividendDate': 1724371200, 'exchange': 'SET', 'quoteType': 'EQUITY', 'symbol': 'MEGA.BK', 'underlyingSymbol': 'MEGA.BK', 'shortName': 'MEGA_MEGA LIFESCIENCES', 'longName': 'Mega Lifesciences Public Company Limited', 'firstTradeDateEpochUtc': 1384830000, 'timeZoneFullName': 'Asia/Bangkok', 'timeZoneShortName': 'ICT', 'uuid': '77186322-7fb8-301d-ab49-d41cd58b68bb', 'messageBoardId': 'finmb_31094172', 'gmtOffSetMilliseconds': 25200000, 'currentPrice': 39.5, 'targetHighPrice': 56.0, 'targetLowPrice': 35.0, 'targetMeanPrice': 48.19, 'targetMedianPrice': 50.5, 'recommendationMean': 2.8, 'recommendationKey': 'hold', 'numberOfAnalystOpinions': 8, 'totalCash': 3693629952, 'totalCashPerShare': 4.236, 'ebitda': 3184812032, 'totalDebt': 413209984, 'quickRatio': 1.497, 'currentRatio': 2.252, 'totalRevenue': 15684597760, 'debtToEquity': 4.219, 'revenuePerShare': 17.99, 'returnOnAssets': 0.12703, 'returnOnEquity': 0.21166, 'freeCashflow': 2272991232, 'operatingCashflow': 2667141120, 'earningsGrowth': -0.034, 'revenueGrowth': -0.008, 'grossMargins': 0.46837002, 'ebitdaMargins': 0.20305, 'operatingMargins': 0.19896999, 'financialCurrency': 'THB', 'trailingPegRatio': None}\n",
      "39.5\n"
     ]
    }
   ],
   "source": [
    "ticker = 'mega.bk'\n",
    "data = yf.Ticker(ticker)\n",
    "print(data.info)\n",
    "print(data.info['currentPrice'])"
   ]
  },
  {
   "cell_type": "code",
   "execution_count": null,
   "metadata": {},
   "outputs": [],
   "source": []
  }
 ],
 "metadata": {
  "kernelspec": {
   "display_name": "env",
   "language": "python",
   "name": "python3"
  },
  "language_info": {
   "codemirror_mode": {
    "name": "ipython",
    "version": 3
   },
   "file_extension": ".py",
   "mimetype": "text/x-python",
   "name": "python",
   "nbconvert_exporter": "python",
   "pygments_lexer": "ipython3",
   "version": "3.11.9"
  }
 },
 "nbformat": 4,
 "nbformat_minor": 2
}
