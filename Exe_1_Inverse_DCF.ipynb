{
 "cells": [
  {
   "cell_type": "code",
   "execution_count": 1,
   "metadata": {},
   "outputs": [],
   "source": [
    "import pandas as pd\n",
    "import yfinance as yf\n",
    "import numpy as np"
   ]
  },
  {
   "cell_type": "code",
   "execution_count": 2,
   "metadata": {},
   "outputs": [
    {
     "name": "stdout",
     "output_type": "stream",
     "text": [
      "{'address1': '337, Somdet Prachao Taksin Road', 'address2': 'Samrae Thonburi', 'city': 'Bangkok', 'zip': '10600', 'country': 'Thailand', 'phone': '66 2 438 0040', 'fax': '66 2 438 5642', 'website': 'https://www.thonburimedicalcenter.com', 'industry': 'Medical Care Facilities', 'industryKey': 'medical-care-facilities', 'industryDisp': 'Medical Care Facilities', 'sector': 'Healthcare', 'sectorKey': 'healthcare', 'sectorDisp': 'Healthcare', 'longBusinessSummary': 'Thonburi Medical Centre Public Company Limited operates a hospital in Thailand. The company offers hair center services, such as hair treatment, hair transplantation surgery, hair laser cap, alopecia areata treatment, and face and body hair treatment; weight center services, including weight loss program, body treatment program, muscle building, skin tightening, and weight gain program; laser and special lab services comprising tattoo removal, hair removal of 2 wavelengths, and blood testing for sensitivity allergy or intolerance to food; anti-aging center; cosmetic surgery center; and sexual health center services consisting of sexual health treatment program, cross-sex hormone therapy, and improving sexual health and firming pelvic muscles. It provides skin and beauty center services, such as facial treatment, acnes and scars treatment, dark spot and melasma treatment, IPL rejuvenation treatment, IPL treatment for acne, and treatment of skin diseases; and non-surgical facelift services, including botox injection, meso fat, HIFU ultrasound, and radio frequency-lift. The company was formerly known as Krungdhon Hospital Public Company Limited and changed its name to Thonburi Medical Centre Public Company Limited in April 2013. Thonburi Medical Centre Public Company Limited was founded in 1977 and is based in Bangkok, Thailand.', 'companyOfficers': [{'maxAge': 1, 'name': 'Mr. Jukkrapun  Sukapunphotaram', 'title': 'Chief Executive Officer and Company Secretary', 'exercisedValue': 0, 'unexercisedValue': 0}, {'maxAge': 1, 'name': 'Nivat  Jeegungwal M.D.', 'title': 'MD & Director', 'exercisedValue': 0, 'unexercisedValue': 0}], 'maxAge': 86400, 'priceHint': 2, 'previousClose': 89.75, 'open': 89.75, 'dayLow': 89.75, 'dayHigh': 89.75, 'regularMarketPreviousClose': 89.75, 'regularMarketOpen': 89.75, 'regularMarketDayLow': 89.75, 'regularMarketDayHigh': 89.75, 'dividendRate': 2.0, 'dividendYield': 0.0223, 'exDividendDate': 1709164800, 'payoutRatio': 0.3049, 'fiveYearAvgDividendYield': 4.98, 'beta': 0.383, 'trailingPE': 13.557402, 'volume': 7000, 'regularMarketVolume': 7000, 'averageVolume': 798, 'averageVolume10days': 860, 'averageDailyVolume10Day': 860, 'bid': 89.75, 'ask': 92.5, 'marketCap': 1739731968, 'fiftyTwoWeekLow': 88.5, 'fiftyTwoWeekHigh': 99.0, 'priceToSalesTrailing12Months': 1.5918211, 'fiftyDayAverage': 91.17, 'twoHundredDayAverage': 91.85375, 'trailingAnnualDividendRate': 2.0, 'trailingAnnualDividendYield': 0.022284122, 'currency': 'THB', 'enterpriseValue': 1149603328, 'profitMargins': 0.11634, 'floatShares': 5962394, 'sharesOutstanding': 19384200, 'heldPercentInsiders': 0.79739, 'impliedSharesOutstanding': 19384200, 'bookValue': 37.915, 'priceToBook': 2.367137, 'lastFiscalYearEnd': 1703980800, 'nextFiscalYearEnd': 1735603200, 'mostRecentQuarter': 1719705600, 'earningsQuarterlyGrowth': 0.165, 'netIncomeToCommon': 127155512, 'trailingEps': 6.62, 'enterpriseToRevenue': 1.052, 'enterpriseToEbitda': 6.118, '52WeekChange': -0.047368407, 'SandP52WeekChange': 0.3828714, 'lastDividendValue': 2.0, 'lastDividendDate': 1709164800, 'exchange': 'SET', 'quoteType': 'EQUITY', 'symbol': 'KDH.BK', 'underlyingSymbol': 'KDH.BK', 'shortName': 'KDH_THONBURI MEDICAL CENTRE', 'longName': 'Thonburi Medical Centre Public Company Limited', 'firstTradeDateEpochUtc': 947041200, 'timeZoneFullName': 'Asia/Bangkok', 'timeZoneShortName': 'ICT', 'uuid': '704e4103-ee4b-3db8-9ebd-7f5fc01a4920', 'messageBoardId': 'finmb_878859', 'gmtOffSetMilliseconds': 25200000, 'currentPrice': 89.75, 'recommendationKey': 'none', 'totalCash': 599347008, 'totalCashPerShare': 30.919, 'ebitda': 187895616, 'totalDebt': 9216000, 'quickRatio': 4.371, 'currentRatio': 4.43, 'totalRevenue': 1092919296, 'debtToEquity': 1.254, 'revenuePerShare': 56.382, 'returnOnAssets': 0.10722999, 'returnOnEquity': 0.18408, 'freeCashflow': 50067632, 'operatingCashflow': 106510336, 'earningsGrowth': 0.165, 'revenueGrowth': -0.2, 'grossMargins': 0.37703, 'ebitdaMargins': 0.17192, 'operatingMargins': 0.14965001, 'financialCurrency': 'THB', 'trailingPegRatio': None}\n",
      "89.75\n",
      "Healthcare\n"
     ]
    }
   ],
   "source": [
    "ticker = 'kdh.bk'\n",
    "data = yf.Ticker(ticker)\n",
    "print(data.info)\n",
    "\n",
    "currentprice = data.info['currentPrice']\n",
    "sector = data.info['sector']\n",
    "print(currentprice)\n",
    "print(sector)\n",
    "\n",
    "dr = 0.10\n",
    "gr = 0.10\n",
    "tgr = 0.03\n",
    "year_growth = 3\n",
    "year_sustain = 7\n",
    "growth_to_sustain_ratio = 0.5"
   ]
  },
  {
   "cell_type": "code",
   "execution_count": 3,
   "metadata": {},
   "outputs": [],
   "source": [
    "# data.cash_flow.index"
   ]
  },
  {
   "cell_type": "code",
   "execution_count": 4,
   "metadata": {},
   "outputs": [
    {
     "name": "stdout",
     "output_type": "stream",
     "text": [
      "Ticker =  kdh.bk  Shares =  19384200\n",
      "Ticker =  kdh.bk  Net Debt =  -128890985.0\n",
      "2023-12-31     80412682.0\n",
      "2022-12-31    162119741.0\n",
      "2021-12-31    136532358.0\n",
      "2020-12-31     29202732.0\n",
      "Name: Free Cash Flow, dtype: object\n",
      "Ticker =  kdh.bk Average Free Cash Flow =  102066878.25\n"
     ]
    }
   ],
   "source": [
    "### - get > Average Free cash flow , shares , Net Debt = Long Term Borrowings - Cash ###\n",
    "\n",
    "## Shares ## \n",
    "shares = data.info['sharesOutstanding']\n",
    "print('Ticker = ',ticker,' Shares = ',shares)\n",
    "\n",
    "## Net Debt = Long Term Borrowings - Cash ###\n",
    "if sector == 'Financial Services':\n",
    "    totalnoncurrentliabilities = data.balancesheet.loc[data.balancesheet.index == 'Net Debt'].values[0][0]\n",
    "else:\n",
    "    totalnoncurrentliabilities = data.balancesheet.loc[data.balancesheet.index == 'Total Non Current Liabilities Net Minority Interest'].values[0][0] - data.balancesheet.loc[data.balancesheet.index == 'Cash And Cash Equivalents'].values[0][0]\n",
    "\n",
    "print('Ticker = ',ticker,' Net Debt = ',totalnoncurrentliabilities)\n",
    "\n",
    "## Average Free Cash Flow ## \n",
    "year = 4\n",
    "if sector == 'Financial Services':\n",
    "    averagefreecashflow = (data.cash_flow.T['Free Cash Flow'] + data.cash_flow.T['Repayment Of Debt']).dropna()[:year].mean()\n",
    "    print((data.cash_flow.T['Free Cash Flow'] + data.cash_flow.T['Repayment Of Debt']).dropna()[:year])\n",
    "else:\n",
    "    averagefreecashflow = data.cash_flow.T['Free Cash Flow'].dropna()[:year].mean()\n",
    "    print(data.cash_flow.T['Free Cash Flow'].dropna()[:year])\n",
    "\n",
    "\n",
    "print('Ticker = ',ticker,'Average Free Cash Flow = ',averagefreecashflow)"
   ]
  },
  {
   "cell_type": "code",
   "execution_count": 5,
   "metadata": {},
   "outputs": [
    {
     "name": "stdout",
     "output_type": "stream",
     "text": [
      "kdh.bk Intrinsic Value =  109.12215632757128\n"
     ]
    }
   ],
   "source": [
    "##### Create a DCF Function ######\n",
    "\n",
    "def intrinsic_value(\n",
    "        shares,\n",
    "        totalnoncurrentliabilities,\n",
    "        averagefreecashflow,\n",
    "        year_growth,\n",
    "        year_sustain,\n",
    "        growth_to_sustain_ratio,\n",
    "        dr,\n",
    "        tgr,\n",
    "        gr\n",
    "        ):\n",
    "    \n",
    "    PV_1 = [averagefreecashflow * ((1+gr)**i) / ((1+dr)**i) for i in range(1,year_growth+1,1)]\n",
    "    PV_2 = [averagefreecashflow * ((1+gr)**year_growth) * ((1+(gr*growth_to_sustain_ratio))**i)/((1+dr)**(year_growth+i)) for i in range(1,year_sustain+1,1)]\n",
    "    TV = averagefreecashflow * ((1+gr)**year_growth) * ((1+(gr*growth_to_sustain_ratio))**(year_sustain)) * (1+tgr) / ((dr-tgr)*((1+dr)**(year_growth+year_sustain)))\n",
    "    return (np.sum(PV_1) + np.sum(PV_2) + TV - totalnoncurrentliabilities)/shares\n",
    "\n",
    "print(ticker + ' Intrinsic Value = ',\n",
    "      intrinsic_value(\n",
    "        shares,\n",
    "        totalnoncurrentliabilities,\n",
    "        averagefreecashflow,\n",
    "        year_growth,\n",
    "        year_sustain,\n",
    "        growth_to_sustain_ratio,\n",
    "        dr,\n",
    "        tgr,\n",
    "        gr\n",
    "        ))"
   ]
  },
  {
   "cell_type": "code",
   "execution_count": 6,
   "metadata": {},
   "outputs": [
    {
     "name": "stdout",
     "output_type": "stream",
     "text": [
      "53.48533843390809  % \n"
     ]
    }
   ],
   "source": [
    "### Put current price as a target ### \n",
    "\n",
    "def intrinsic_value_diff_currentprice(\n",
    "        shares,\n",
    "        totalnoncurrentliabilities,\n",
    "        averagefreecashflow,\n",
    "        year_growth,\n",
    "        year_sustain,\n",
    "        growth_to_sustain_ratio,\n",
    "        dr,\n",
    "        tgr,\n",
    "        currentprice,\n",
    "        gr\n",
    "        ):\n",
    "    \n",
    "    PV_1 = [averagefreecashflow * ((1+gr)**i) / ((1+dr)**i) for i in range(1,year_growth+1,1)]\n",
    "    PV_2 = [averagefreecashflow * ((1+gr)**year_growth) * ((1+(gr*growth_to_sustain_ratio))**i)/((1+dr)**(year_growth+i)) for i in range(1,year_sustain+1,1)]\n",
    "    TV = averagefreecashflow * ((1+gr)**year_growth) * ((1+(gr*growth_to_sustain_ratio))**(year_sustain)) * (1+tgr) / ((dr-tgr)*((1+dr)**(year_growth+year_sustain)))\n",
    "    # print((((np.sum(PV_1) + np.sum(PV_2) + TV - totalnoncurrentliabilities)/shares)) , currentprice)\n",
    "    return (((np.sum(PV_1) + np.sum(PV_2) + TV - totalnoncurrentliabilities)/shares) - currentprice)/currentprice\n",
    "\n",
    "print(intrinsic_value_diff_currentprice(\n",
    "        shares,\n",
    "        totalnoncurrentliabilities,\n",
    "        averagefreecashflow,\n",
    "        year_growth,\n",
    "        year_sustain,\n",
    "        growth_to_sustain_ratio,\n",
    "        dr,\n",
    "        tgr,\n",
    "        currentprice,\n",
    "        0.15\n",
    "        )*100,\" % \")"
   ]
  },
  {
   "cell_type": "code",
   "execution_count": 7,
   "metadata": {},
   "outputs": [],
   "source": [
    "def newton_raphson_method(\n",
    "            shares,\n",
    "            totalnoncurrentliabilities,\n",
    "            averagefreecashflow,\n",
    "            year_growth,\n",
    "            year_sustain,\n",
    "            growth_to_sustain_ratio,\n",
    "            dr,\n",
    "            tgr,\n",
    "            currentprice):\n",
    "    \n",
    "    initial_guess = 0.01\n",
    "    tolerance = 0.01\n",
    "    max_iterations = 100000\n",
    "    x_n = initial_guess\n",
    "    \n",
    "    for iteration in range(max_iterations):\n",
    "    # while (True):\n",
    "        f_x = intrinsic_value_diff_currentprice(\n",
    "            shares,\n",
    "            totalnoncurrentliabilities,\n",
    "            averagefreecashflow,\n",
    "            year_growth,\n",
    "            year_sustain,\n",
    "            growth_to_sustain_ratio,\n",
    "            dr,\n",
    "            tgr,\n",
    "            currentprice,\n",
    "            x_n\n",
    "        )\n",
    "\n",
    "        if abs(f_x) < tolerance :\n",
    "            break\n",
    "\n",
    "        x_n = x_n - f_x * 0.01\n",
    "\n",
    "    return x_n"
   ]
  },
  {
   "cell_type": "code",
   "execution_count": 8,
   "metadata": {},
   "outputs": [
    {
     "name": "stdout",
     "output_type": "stream",
     "text": [
      "Estimated GR: 0.05566475357128594\n",
      "-0.9943752568365218  % \n"
     ]
    }
   ],
   "source": [
    "### test ###\n",
    "initial_guess = 0.01\n",
    "tolerance = 0.01\n",
    "max_iterations = 100000\n",
    "\n",
    "root = newton_raphson_method(           \n",
    "            shares,\n",
    "            totalnoncurrentliabilities,\n",
    "            averagefreecashflow,\n",
    "            year_growth,\n",
    "            year_sustain,\n",
    "            growth_to_sustain_ratio,\n",
    "            dr,\n",
    "            tgr,\n",
    "            currentprice)\n",
    "\n",
    "print(\"Estimated GR:\", root)\n",
    "\n",
    "print(intrinsic_value_diff_currentprice(\n",
    "        shares,\n",
    "        totalnoncurrentliabilities,\n",
    "        averagefreecashflow,\n",
    "        year_growth,\n",
    "        year_sustain,\n",
    "        growth_to_sustain_ratio,\n",
    "        dr,\n",
    "        tgr,\n",
    "        currentprice,\n",
    "        root\n",
    "        ) * 100,\" % \")\n"
   ]
  },
  {
   "cell_type": "code",
   "execution_count": 9,
   "metadata": {},
   "outputs": [
    {
     "name": "stdout",
     "output_type": "stream",
     "text": [
      "2.362133788862296 -0.20647781367527002\n"
     ]
    },
    {
     "data": {
      "image/png": "[encoded data removed]",
      "text/plain": [
       "<Figure size 640x480 with 1 Axes>"
      ]
     },
     "metadata": {},
     "output_type": "display_data"
    }
   ],
   "source": [
    "dr_list = [dr*0.01 for dr in range(int((tgr*100)+1),31,1)]\n",
    "df = pd.DataFrame(index=dr_list,columns=['growthrate'])\n",
    "\n",
    "growthrate = [ newton_raphson_method(           \n",
    "            shares,\n",
    "            totalnoncurrentliabilities,\n",
    "            averagefreecashflow,\n",
    "            year_growth,\n",
    "            year_sustain,\n",
    "            growth_to_sustain_ratio,\n",
    "            dr,\n",
    "            tgr,\n",
    "            currentprice) for dr in dr_list]\n",
    "df['growthrate'] = growthrate\n",
    "df.plot(xlabel='dr', ylabel='growthrate').set_title(ticker)\n",
    "\n",
    "beta, alpha = np.polyfit(np.array(df.index).astype('float64'), np.array(df['growthrate']).astype('float64'),1)\n",
    "print(beta,alpha)"
   ]
  }
 ],
 "metadata": {
  "kernelspec": {
   "display_name": "env",
   "language": "python",
   "name": "python3"
  },
  "language_info": {
   "codemirror_mode": {
    "name": "ipython",
    "version": 3
   },
   "file_extension": ".py",
   "mimetype": "text/x-python",
   "name": "python",
   "nbconvert_exporter": "python",
   "pygments_lexer": "ipython3",
   "version": "3.11.5"
  }
 },
 "nbformat": 4,
 "nbformat_minor": 2
}
