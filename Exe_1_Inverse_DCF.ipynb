{
 "cells": [
  {
   "cell_type": "code",
   "execution_count": 46,
   "metadata": {},
   "outputs": [],
   "source": [
    "import pandas as pd\n",
    "import yfinance as yf\n",
    "import numpy as np"
   ]
  },
  {
   "cell_type": "code",
   "execution_count": 47,
   "metadata": {},
   "outputs": [
    {
     "name": "stdout",
     "output_type": "stream",
     "text": [
      "{'address1': 'No. 448, 450 On Nut Road', 'address2': 'Prawet Sub-District Prawet District', 'city': 'Bangkok', 'zip': '10250', 'country': 'Thailand', 'phone': '66 2 329 1050', 'fax': '66 2 727 7289', 'website': 'https://www.mcgroupnet.com', 'industry': 'Apparel Manufacturing', 'industryKey': 'apparel-manufacturing', 'industryDisp': 'Apparel Manufacturing', 'sector': 'Consumer Cyclical', 'sectorKey': 'consumer-cyclical', 'sectorDisp': 'Consumer Cyclical', 'longBusinessSummary': 'MC Group Public Company Limited, together with its subsidiaries, manufactures, distributes, and retails apparel, accessories, and lifestyle products in Thailand. The company offers ready-to-wear clothing and apparels. It also offers bags, belts, and activewears. In addition, the company offers skincare and aromatic products. Further, it manages PCs and warehouse employees; and distributes products and services through online/internet channel, as well as manages trade and products. The company markets its products under the Mc, Mc Lady, Mc Mini, The Blue Brothers, U-P, and M&C brands. MC Group Public Company Limited operates through points of sales in Thailand and internationally. The company offers its products online through mcshop.com. MC Group Public Company Limited was founded in 1975 and is headquartered in Bangkok, Thailand.', 'companyOfficers': [{'maxAge': 1, 'name': 'Mr. Virach  Seripanu', 'age': 60, 'title': 'COO & Director', 'yearBorn': 1963, 'fiscalYear': 2024, 'totalPay': 670000, 'exercisedValue': 0, 'unexercisedValue': 0}, {'maxAge': 1, 'name': 'Mr. James Richard Amatavivadhana', 'age': 60, 'title': 'Chief Executive Officer', 'yearBorn': 1963, 'fiscalYear': 2024, 'exercisedValue': 0, 'unexercisedValue': 0}, {'maxAge': 1, 'name': 'Mr. Piya  Oranriksuphak', 'age': 43, 'title': 'Chief Finance & Accounting Officer and Head of Investor Relations', 'yearBorn': 1980, 'fiscalYear': 2024, 'exercisedValue': 0, 'unexercisedValue': 0}, {'maxAge': 1, 'name': 'Ms. Gaysorn  Srichoo', 'age': 53, 'title': 'Account Controller, Senior Director & Head of Accounting Department', 'yearBorn': 1970, 'fiscalYear': 2024, 'exercisedValue': 0, 'unexercisedValue': 0}, {'maxAge': 1, 'name': 'Mr. Nopadol  Tangdenchai', 'age': 45, 'title': 'Chief Information Officer', 'yearBorn': 1978, 'fiscalYear': 2024, 'exercisedValue': 0, 'unexercisedValue': 0}, {'maxAge': 1, 'name': 'Mr. Pongsak  Tanthanapipat', 'age': 53, 'title': 'EVP, Head of Compliance Unit, Head of Business Transformation & Sustainability and Company Secretary', 'yearBorn': 1970, 'fiscalYear': 2024, 'exercisedValue': 0, 'unexercisedValue': 0}, {'maxAge': 1, 'name': 'Mr. Sakesan  Serksiri', 'age': 54, 'title': 'Chief Supply Chain Officer', 'yearBorn': 1969, 'fiscalYear': 2024, 'exercisedValue': 0, 'unexercisedValue': 0}, {'maxAge': 1, 'name': 'Ms. Somporn  U-In', 'age': 39, 'title': 'Head & Assistant VP of Internal Audit', 'yearBorn': 1984, 'fiscalYear': 2024, 'exercisedValue': 0, 'unexercisedValue': 0}, {'maxAge': 1, 'name': 'Mr. Prapat  Siangjan', 'age': 52, 'title': 'Chief Commercial Officer', 'yearBorn': 1971, 'fiscalYear': 2024, 'exercisedValue': 0, 'unexercisedValue': 0}], 'compensationAsOfEpochDate': 1735603200, 'maxAge': 86400, 'priceHint': 2, 'previousClose': 12.7, 'open': 12.6, 'dayLow': 12.2, 'dayHigh': 12.6, 'regularMarketPreviousClose': 12.7, 'regularMarketOpen': 12.6, 'regularMarketDayLow': 12.2, 'regularMarketDayHigh': 12.6, 'dividendRate': 0.8, 'dividendYield': 0.063, 'exDividendDate': 1730332800, 'payoutRatio': 0.95559996, 'fiveYearAvgDividendYield': 6.41, 'beta': 0.247, 'trailingPE': 13.666667, 'forwardPE': 11.495327, 'volume': 3158817, 'regularMarketVolume': 3158817, 'averageVolume': 1661949, 'averageVolume10days': 1549890, 'averageDailyVolume10Day': 1549890, 'bid': 12.2, 'ask': 12.3, 'marketCap': 9741599744, 'fiftyTwoWeekLow': 9.65, 'fiftyTwoWeekHigh': 14.9, 'priceToSalesTrailing12Months': 2.3734097, 'fiftyDayAverage': 11.918, 'twoHundredDayAverage': 12.10625, 'trailingAnnualDividendRate': 0.9, 'trailingAnnualDividendYield': 0.07086614, 'currency': 'THB', 'enterpriseValue': 9563614208, 'profitMargins': 0.17375, 'floatShares': 385252560, 'sharesOutstanding': 792000000, 'heldPercentInsiders': 0.63283, 'heldPercentInstitutions': 0.116009995, 'impliedSharesOutstanding': 798236032, 'bookValue': 4.722, 'priceToBook': 2.6048284, 'lastFiscalYearEnd': 1719705600, 'nextFiscalYearEnd': 1751241600, 'mostRecentQuarter': 1719705600, 'earningsQuarterlyGrowth': 0.155, 'netIncomeToCommon': 713163712, 'trailingEps': 0.9, 'forwardEps': 1.07, 'pegRatio': 1.59, 'enterpriseToRevenue': 2.33, 'enterpriseToEbitda': 9.364, '52WeekChange': 0.024193525, 'SandP52WeekChange': 0.3763833, 'lastDividendValue': 0.4, 'lastDividendDate': 1730332800, 'exchange': 'SET', 'quoteType': 'EQUITY', 'symbol': 'MC.BK', 'underlyingSymbol': 'MC.BK', 'shortName': 'MC_MC GROUP', 'longName': 'MC Group Public Company Limited', 'firstTradeDateEpochUtc': 1372906800, 'timeZoneFullName': 'Asia/Bangkok', 'timeZoneShortName': 'ICT', 'uuid': '86f463e7-ef0b-3d6d-9038-565072815d4d', 'messageBoardId': 'finmb_233584418', 'gmtOffSetMilliseconds': 25200000, 'currentPrice': 12.3, 'targetHighPrice': 16.0, 'targetLowPrice': 14.2, 'targetMeanPrice': 14.93, 'targetMedianPrice': 14.75, 'recommendationMean': 1.7, 'recommendationKey': 'buy', 'numberOfAnalystOpinions': 4, 'totalCash': 1733788160, 'totalCashPerShare': 2.189, 'ebitda': 1021331776, 'totalDebt': 1238241024, 'quickRatio': 2.359, 'currentRatio': 3.946, 'totalRevenue': 4104474624, 'debtToEquity': 33.1, 'revenuePerShare': 5.182, 'returnOnAssets': 0.10623, 'returnOnEquity': 0.19113001, 'freeCashflow': 834992320, 'operatingCashflow': 936767552, 'earningsGrowth': 0.155, 'revenueGrowth': 0.061, 'grossMargins': 0.64651, 'ebitdaMargins': 0.24882999, 'operatingMargins': 0.20472, 'financialCurrency': 'THB', 'trailingPegRatio': None}\n",
      "12.3\n",
      "Consumer Cyclical\n"
     ]
    }
   ],
   "source": [
    "ticker = 'mc.bk'\n",
    "data = yf.Ticker(ticker)\n",
    "print(data.info)\n",
    "\n",
    "currentprice = data.info['currentPrice']\n",
    "sector = data.info['sector']\n",
    "print(currentprice)\n",
    "print(sector)\n",
    "\n",
    "dr = 0.10\n",
    "gr = 0.10\n",
    "tgr = 0.03\n",
    "year_growth = 3\n",
    "year_sustain = 7\n",
    "growth_to_sustain_ratio = 0.5"
   ]
  },
  {
   "cell_type": "code",
   "execution_count": 48,
   "metadata": {},
   "outputs": [],
   "source": [
    "# data.cash_flow.index"
   ]
  },
  {
   "cell_type": "code",
   "execution_count": 49,
   "metadata": {},
   "outputs": [
    {
     "name": "stdout",
     "output_type": "stream",
     "text": [
      "Ticker =  mc.bk  Shares =  792000000\n",
      "Ticker =  mc.bk  Net Debt =  585472590.0\n",
      "2024-06-30    835796648.0\n",
      "2023-06-30    335877861.0\n",
      "2022-06-30    825461008.0\n",
      "2021-06-30    722702497.0\n",
      "Name: Free Cash Flow, dtype: object\n",
      "Ticker =  mc.bk Average Free Cash Flow =  679959503.5\n"
     ]
    }
   ],
   "source": [
    "### - get > Average Free cash flow , shares , Net Debt = Long Term Borrowings - Cash ###\n",
    "\n",
    "## Shares ## \n",
    "shares = data.info['sharesOutstanding']\n",
    "print('Ticker = ',ticker,' Shares = ',shares)\n",
    "\n",
    "## Net Debt = Long Term Borrowings - Cash ###\n",
    "if sector == 'Financial Services':\n",
    "    totalnoncurrentliabilities = data.balancesheet.loc[data.balancesheet.index == 'Net Debt'].values[0][0]\n",
    "else:\n",
    "    totalnoncurrentliabilities = data.balancesheet.loc[data.balancesheet.index == 'Total Non Current Liabilities Net Minority Interest'].values[0][0] - data.balancesheet.loc[data.balancesheet.index == 'Cash And Cash Equivalents'].values[0][0]\n",
    "\n",
    "print('Ticker = ',ticker,' Net Debt = ',totalnoncurrentliabilities)\n",
    "\n",
    "## Average Free Cash Flow ## \n",
    "year = 4\n",
    "if sector == 'Financial Services':\n",
    "    averagefreecashflow = (data.cash_flow.T['Free Cash Flow'] + data.cash_flow.T['Repayment Of Debt']).dropna()[:year].mean()\n",
    "    print((data.cash_flow.T['Free Cash Flow'] + data.cash_flow.T['Repayment Of Debt']).dropna()[:year])\n",
    "else:\n",
    "    averagefreecashflow = data.cash_flow.T['Free Cash Flow'].dropna()[:year].mean()\n",
    "    print(data.cash_flow.T['Free Cash Flow'].dropna()[:year])\n",
    "\n",
    "\n",
    "print('Ticker = ',ticker,'Average Free Cash Flow = ',averagefreecashflow)"
   ]
  },
  {
   "cell_type": "code",
   "execution_count": 50,
   "metadata": {},
   "outputs": [
    {
     "name": "stdout",
     "output_type": "stream",
     "text": [
      "mc.bk Intrinsic Value =  15.97\n"
     ]
    }
   ],
   "source": [
    "##### Create a DCF Function ######\n",
    "\n",
    "def intrinsic_value(\n",
    "        shares,\n",
    "        totalnoncurrentliabilities,\n",
    "        averagefreecashflow,\n",
    "        year_growth,\n",
    "        year_sustain,\n",
    "        growth_to_sustain_ratio,\n",
    "        dr,\n",
    "        tgr,\n",
    "        gr\n",
    "        ):\n",
    "    \n",
    "    PV_1 = [averagefreecashflow * ((1+gr)**i) / ((1+dr)**i) for i in range(1,year_growth+1,1)]\n",
    "    PV_2 = [averagefreecashflow * ((1+gr)**year_growth) * ((1+(gr*growth_to_sustain_ratio))**i)/((1+dr)**(year_growth+i)) for i in range(1,year_sustain+1,1)]\n",
    "    TV = averagefreecashflow * ((1+gr)**year_growth) * ((1+(gr*growth_to_sustain_ratio))**(year_sustain)) * (1+tgr) / ((dr-tgr)*((1+dr)**(year_growth+year_sustain)))\n",
    "    return (np.sum(PV_1) + np.sum(PV_2) + TV - totalnoncurrentliabilities)/shares\n",
    "\n",
    "print(ticker + ' Intrinsic Value = ',\n",
    "      np.round(intrinsic_value(\n",
    "        shares,\n",
    "        totalnoncurrentliabilities,\n",
    "        averagefreecashflow,\n",
    "        year_growth,\n",
    "        year_sustain,\n",
    "        growth_to_sustain_ratio,\n",
    "        dr,\n",
    "        tgr,\n",
    "        gr\n",
    "        ),2))"
   ]
  },
  {
   "cell_type": "code",
   "execution_count": 51,
   "metadata": {},
   "outputs": [
    {
     "name": "stdout",
     "output_type": "stream",
     "text": [
      "67.78251092954355  % \n"
     ]
    }
   ],
   "source": [
    "### Put current price as a target ### \n",
    "\n",
    "def intrinsic_value_diff_currentprice(\n",
    "        shares,\n",
    "        totalnoncurrentliabilities,\n",
    "        averagefreecashflow,\n",
    "        year_growth,\n",
    "        year_sustain,\n",
    "        growth_to_sustain_ratio,\n",
    "        dr,\n",
    "        tgr,\n",
    "        currentprice,\n",
    "        gr\n",
    "        ):\n",
    "    \n",
    "    PV_1 = [averagefreecashflow * ((1+gr)**i) / ((1+dr)**i) for i in range(1,year_growth+1,1)]\n",
    "    PV_2 = [averagefreecashflow * ((1+gr)**year_growth) * ((1+(gr*growth_to_sustain_ratio))**i)/((1+dr)**(year_growth+i)) for i in range(1,year_sustain+1,1)]\n",
    "    TV = averagefreecashflow * ((1+gr)**year_growth) * ((1+(gr*growth_to_sustain_ratio))**(year_sustain)) * (1+tgr) / ((dr-tgr)*((1+dr)**(year_growth+year_sustain)))\n",
    "    # print((((np.sum(PV_1) + np.sum(PV_2) + TV - totalnoncurrentliabilities)/shares)) , currentprice)\n",
    "    return (((np.sum(PV_1) + np.sum(PV_2) + TV - totalnoncurrentliabilities)/shares) - currentprice)/currentprice\n",
    "\n",
    "print(intrinsic_value_diff_currentprice(\n",
    "        shares,\n",
    "        totalnoncurrentliabilities,\n",
    "        averagefreecashflow,\n",
    "        year_growth,\n",
    "        year_sustain,\n",
    "        growth_to_sustain_ratio,\n",
    "        dr,\n",
    "        tgr,\n",
    "        currentprice,\n",
    "        0.15\n",
    "        )*100,\" % \")"
   ]
  },
  {
   "cell_type": "code",
   "execution_count": 52,
   "metadata": {},
   "outputs": [],
   "source": [
    "def newton_raphson_method(\n",
    "            shares,\n",
    "            totalnoncurrentliabilities,\n",
    "            averagefreecashflow,\n",
    "            year_growth,\n",
    "            year_sustain,\n",
    "            growth_to_sustain_ratio,\n",
    "            dr,\n",
    "            tgr,\n",
    "            currentprice):\n",
    "    \n",
    "    initial_guess = 0.01\n",
    "    tolerance = 0.01\n",
    "    max_iterations = 100000\n",
    "    x_n = initial_guess\n",
    "    \n",
    "    for iteration in range(max_iterations):\n",
    "    # while (True):\n",
    "        f_x = intrinsic_value_diff_currentprice(\n",
    "            shares,\n",
    "            totalnoncurrentliabilities,\n",
    "            averagefreecashflow,\n",
    "            year_growth,\n",
    "            year_sustain,\n",
    "            growth_to_sustain_ratio,\n",
    "            dr,\n",
    "            tgr,\n",
    "            currentprice,\n",
    "            x_n\n",
    "        )\n",
    "\n",
    "        if abs(f_x) < tolerance :\n",
    "            break\n",
    "\n",
    "        x_n = x_n - f_x * 0.01\n",
    "\n",
    "    return x_n"
   ]
  },
  {
   "cell_type": "code",
   "execution_count": 53,
   "metadata": {},
   "outputs": [
    {
     "name": "stdout",
     "output_type": "stream",
     "text": [
      "Estimated GR: 0.04823745715195677\n",
      "-0.9982487270851252  % \n"
     ]
    }
   ],
   "source": [
    "root = newton_raphson_method(           \n",
    "            shares,\n",
    "            totalnoncurrentliabilities,\n",
    "            averagefreecashflow,\n",
    "            year_growth,\n",
    "            year_sustain,\n",
    "            growth_to_sustain_ratio,\n",
    "            dr,\n",
    "            tgr,\n",
    "            currentprice)\n",
    "\n",
    "print(\"Estimated GR:\", root)\n",
    "\n",
    "print(intrinsic_value_diff_currentprice(\n",
    "        shares,\n",
    "        totalnoncurrentliabilities,\n",
    "        averagefreecashflow,\n",
    "        year_growth,\n",
    "        year_sustain,\n",
    "        growth_to_sustain_ratio,\n",
    "        dr,\n",
    "        tgr,\n",
    "        currentprice,\n",
    "        root\n",
    "        ) * 100,\" % \")\n"
   ]
  },
  {
   "cell_type": "code",
   "execution_count": null,
   "metadata": {},
   "outputs": [
    {
     "name": "stdout",
     "output_type": "stream",
     "text": [
      "      growthrate\n",
      "0.04   -0.242603\n",
      "0.05   -0.152330\n",
      "0.06   -0.093857\n",
      "0.07   -0.048647\n",
      "0.08   -0.010905\n",
      "0.09    0.018616\n",
      "0.10    0.048237\n",
      "0.11    0.075653\n",
      "0.12    0.101239\n",
      "0.13    0.125396\n",
      "0.14    0.148536\n",
      "0.15    0.170729\n",
      "0.16    0.192111\n",
      "0.17    0.212890\n",
      "0.18    0.233154\n",
      "0.19    0.252973\n",
      "0.20    0.272304\n",
      "0.21    0.291395\n",
      "0.22    0.310086\n",
      "0.23    0.328512\n",
      "0.24    0.346699\n",
      "0.25    0.364675\n",
      "0.26    0.382458\n",
      "0.27    0.400068\n",
      "0.28    0.417421\n",
      "0.29    0.434731\n",
      "0.30    0.451909\n",
      "2.3433934518234913 -0.21202689928568305\n"
     ]
    },
    {
     "data": {
      "image/png": "[encoded data removed]",
      "text/plain": [
       "<Figure size 640x480 with 1 Axes>"
      ]
     },
     "metadata": {},
     "output_type": "display_data"
    }
   ],
   "source": [
    "dr_list = [dr*0.01 for dr in range(int((tgr*100)+1),101,1)]\n",
    "df = pd.DataFrame(index=dr_list,columns=['growthrate'])\n",
    "\n",
    "growthrate = [ newton_raphson_method(           \n",
    "            shares,\n",
    "            totalnoncurrentliabilities,\n",
    "            averagefreecashflow,\n",
    "            year_growth,\n",
    "            year_sustain,\n",
    "            growth_to_sustain_ratio,\n",
    "            dr,\n",
    "            tgr,\n",
    "            currentprice) for dr in dr_list]\n",
    "df['growthrate'] = growthrate\n",
    "print(df)\n",
    "df.plot(xlabel='dr', ylabel='growthrate').set_title(ticker)\n",
    "\n",
    "beta, alpha = np.polyfit(np.array(df.index).astype('float64'), np.array(df['growthrate']).astype('float64'),1)\n",
    "print(beta,alpha)"
   ]
  }
 ],
 "metadata": {
  "kernelspec": {
   "display_name": "env",
   "language": "python",
   "name": "python3"
  },
  "language_info": {
   "codemirror_mode": {
    "name": "ipython",
    "version": 3
   },
   "file_extension": ".py",
   "mimetype": "text/x-python",
   "name": "python",
   "nbconvert_exporter": "python",
   "pygments_lexer": "ipython3",
   "version": "3.11.9"
  }
 },
 "nbformat": 4,
 "nbformat_minor": 2
}
